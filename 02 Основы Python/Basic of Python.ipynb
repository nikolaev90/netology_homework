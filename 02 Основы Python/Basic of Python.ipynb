{
 "cells": [
  {
   "cell_type": "markdown",
   "metadata": {},
   "source": [
    "Задание 1. Даны 2 строки: long_phrase и short_phrase. \n",
    "    Напишите код, который проверяет действительно ли длинная фраза long_phrase длиннее короткой short_phrase. \n",
    "    И выводит True или False в зависимости от результата сравнения.\n",
    "In [ ]:\n",
    "long_phrase = 'Насколько проще было бы писать программы, если бы не заказчики'\n",
    "short_phrase = '640Кб должно хватить для любых задач. Билл Гейтс (по легенде)'"
   ]
  },
  {
   "cell_type": "code",
   "execution_count": 2,
   "metadata": {},
   "outputs": [],
   "source": [
    "long_phrase = 'Насколько проще было бы писать программы, если бы не заказчики'\n",
    "short_phrase = '640Кб должно хватить для любых задач. Билл Гейтс (по легенде)'"
   ]
  },
  {
   "cell_type": "code",
   "execution_count": 3,
   "metadata": {
    "scrolled": true
   },
   "outputs": [
    {
     "name": "stdout",
     "output_type": "stream",
     "text": [
      "False\n"
     ]
    }
   ],
   "source": [
    "print('long_phrase' > 'short_phrase')"
   ]
  },
  {
   "cell_type": "code",
   "execution_count": 4,
   "metadata": {},
   "outputs": [
    {
     "data": {
      "text/plain": [
       "False"
      ]
     },
     "execution_count": 4,
     "metadata": {},
     "output_type": "execute_result"
    }
   ],
   "source": [
    "len('long_phrase') > len('short_phrase')"
   ]
  },
  {
   "cell_type": "markdown",
   "metadata": {},
   "source": [
    "Задание 2. Дано значение объема файла в байтах (в мегабайте 2^20 байт). \n",
    "Напишите перевод этого значения в мегабайты в формате: \"Объем файла равен 213.68Mb\".\n"
   ]
  },
  {
   "cell_type": "code",
   "execution_count": 5,
   "metadata": {},
   "outputs": [
    {
     "name": "stdout",
     "output_type": "stream",
     "text": [
      "Объем файла равен 201.27 Mb\n"
     ]
    }
   ],
   "source": [
    "# Решение 1\n",
    "a = 211048576 \n",
    "b = 1024 # 1 килобайт (a) = 1024 байт\n",
    "c = 1024*b # 1 мегабайт (b) = 1024 килобайт\n",
    "d = a / c\n",
    "z = d\n",
    "z = float('{:.2f}'.format(z))\n",
    "print('Объем файла равен', z,'Mb')"
   ]
  },
  {
   "cell_type": "code",
   "execution_count": 6,
   "metadata": {},
   "outputs": [
    {
     "name": "stdout",
     "output_type": "stream",
     "text": [
      "1048576 1048576\n"
     ]
    }
   ],
   "source": [
    "print(2 ** 20, 1024 * 1024)"
   ]
  },
  {
   "cell_type": "code",
   "execution_count": 7,
   "metadata": {},
   "outputs": [
    {
     "name": "stdout",
     "output_type": "stream",
     "text": [
      "Объем файла равен 201.27 Mb\n"
     ]
    }
   ],
   "source": [
    "# Решение 2\n",
    "a = 211048576 \n",
    "b = 2 ** 20\n",
    "c = a / b\n",
    "z = c\n",
    "z = float('{:.2f}'.format(z))\n",
    "print('Объем файла равен', z,'Mb')"
   ]
  },
  {
   "cell_type": "code",
   "execution_count": 1,
   "metadata": {},
   "outputs": [
    {
     "name": "stdout",
     "output_type": "stream",
     "text": [
      "Введите объем информации в байтай\n",
      "211048576\n",
      "Объем файла равен 201.27 Mb\n"
     ]
    }
   ],
   "source": [
    "# Решение 3\n",
    "print('Введите объем информации в байтай')\n",
    "a = int(input())\n",
    "b = 2 ** 20\n",
    "c = a / b\n",
    "z = c\n",
    "z = float('{:.2f}'.format(z))\n",
    "print('Объем файла равен', z,'Mb')"
   ]
  },
  {
   "cell_type": "code",
   "execution_count": null,
   "metadata": {},
   "outputs": [],
   "source": []
  },
  {
   "cell_type": "markdown",
   "metadata": {},
   "source": [
    "Задание 3. Разработать приложение для определения знака зодиака по дате рождения. \n",
    "Пример:\n",
    "Введите месяц: март\n",
    "Введите число: 6\n",
    "Вывод: Рыбы"
   ]
  },
  {
   "cell_type": "markdown",
   "metadata": {},
   "source": [
    "# Даты знаков Зодиака"
   ]
  },
  {
   "cell_type": "markdown",
   "metadata": {},
   "source": [
    "с 21 марта по 20 апреля Овен\n",
    "с 21 апреля по 20 мая Телец\n",
    "с 21 мая по 21 июня Близнецы\n",
    "с 22 июня по 22 июля Рак\n",
    "с 23 июля по 23 августа Лев\n",
    "с 24 августа по 23 сентября Дева\n",
    "с 24 сентября по 23 октября Весы\n",
    "с 24 октября по 22 ноября Скорпион\n",
    "с 23 ноября по 21 декабря Стрелец\n",
    "с 22 декабря по 20 января Козерог\n",
    "с 21 января по 20 февраля Водолей\n",
    "с 21 февраля по 20 марта Рыбы"
   ]
  },
  {
   "cell_type": "code",
   "execution_count": 8,
   "metadata": {},
   "outputs": [
    {
     "data": {
      "text/plain": [
       "True"
      ]
     },
     "execution_count": 8,
     "metadata": {},
     "output_type": "execute_result"
    }
   ],
   "source": [
    "23.07 > 22.12"
   ]
  },
  {
   "cell_type": "code",
   "execution_count": null,
   "metadata": {},
   "outputs": [
    {
     "name": "stdout",
     "output_type": "stream",
     "text": [
      "Введите месяц рождения с маленькой буквы:\n"
     ]
    }
   ],
   "source": [
    "print('Введите месяц рождения с маленькой буквы:')\n",
    "mounth = input()\n",
    "print('Введите дату:')\n",
    "date = int(input())\n",
    "if mounth == 'март' and date > 20:\n",
    "    print('Овен')\n",
    "elif mounth == 'апрель' and date <= 20:\n",
    "    print('Овен') \n",
    "elif mounth == 'апрель' and date > 20:\n",
    "    print('Телец')\n",
    "elif mounth == 'май' and date <= 20:\n",
    "    print('Телец')   \n",
    "elif mounth == 'май' and date > 20:\n",
    "    print('Близнецы')\n",
    "elif mounth == 'июнь' and date <= 21:\n",
    "    print('Близнецы')  \n",
    "elif mounth == 'июнь' and date > 21:\n",
    "    print('Рак')\n",
    "elif mounth == 'июль' and date <= 22:\n",
    "    print('Рак') \n",
    "elif mounth == 'июль' and date > 22:\n",
    "    print('Лев')\n",
    "elif mounth == 'август' and date <= 23:\n",
    "    print('Лев') \n",
    "elif mounth == 'август' and date > 23:\n",
    "    print('Дева')\n",
    "elif mounth == 'сентябрь' and date <= 23:\n",
    "    print('Дева')  \n",
    "elif mounth == 'сентябрь' and date > 23:\n",
    "    print('Весы')\n",
    "elif mounth == 'октябрь' and date <= 23:\n",
    "    print('Весы')   \n",
    "elif mounth == 'октябрь' and date > 23:\n",
    "    print('Скорпион')\n",
    "elif mounth == 'ноябрь' and date <= 22:\n",
    "    print('Скорпион')\n",
    "elif mounth == 'ноябрь' and date > 22:\n",
    "    print('Стрелец')\n",
    "elif mounth == 'декабрь' and date <= 21:\n",
    "    print('Стрелец')\n",
    "elif mounth == 'декабрь' and date > 21:\n",
    "    print('Козерог')\n",
    "elif mounth == 'январь' and date <= 20:\n",
    "    print('Козерог')\n",
    "elif mounth == 'январь' and date > 20:\n",
    "    print('Водолей')\n",
    "elif mounth == 'февраль' and date <= 20:\n",
    "    print('Водолей')\n",
    "elif mounth == 'февраль' and date > 20:\n",
    "    print('Рыбы')\n",
    "elif mounth == 'март' and date <= 20:\n",
    "    print('Рыбы')"
   ]
  },
  {
   "cell_type": "code",
   "execution_count": null,
   "metadata": {},
   "outputs": [],
   "source": []
  },
  {
   "cell_type": "code",
   "execution_count": null,
   "metadata": {},
   "outputs": [],
   "source": []
  },
  {
   "cell_type": "code",
   "execution_count": null,
   "metadata": {},
   "outputs": [],
   "source": []
  },
  {
   "cell_type": "code",
   "execution_count": null,
   "metadata": {},
   "outputs": [],
   "source": []
  },
  {
   "cell_type": "code",
   "execution_count": null,
   "metadata": {},
   "outputs": [],
   "source": []
  },
  {
   "cell_type": "markdown",
   "metadata": {},
   "source": [
    "Задание 4. Нужно разработать приложение для финансового планирования. Приложение учитывает сколько уходит на ипотеку, \"на жизнь\" и сколько нужно отложить на пенсию. Пользователь вводит:\n",
    "заработанную плату в месяц.\n",
    "сколько процентов от ЗП уходит на ипотеку.\n",
    "сколько процентов от ЗП уходит \"на жизнь\".\n",
    "сколько раз приходит премия в год.\n",
    "Остальная часть заработанной платы откладывается на пенсию.\n",
    "Также пользователю приходит премия в размере зарплаты, от которой половина уходит на отпуск, а вторая половина откладывается.\n",
    "Программа должна учитывать сколько премий было в год.\n",
    "Нужно вывести сколько денег тратит пользователь на ипотеку и сколько он накопит за год.\n",
    "Пример:\n",
    "Введите заработанную плату в месяц: 100000\n",
    "Введите сколько процентов уходит на ипотеку: 30\n",
    "Введите сколько процентов уходит на жизнь: 50\n",
    "Введите количество премий за год: 2\n",
    "Вывод: На ипотеку было потрачено: 360000 рублей Было накоплено: 340000 рублей"
   ]
  },
  {
   "cell_type": "code",
   "execution_count": 7,
   "metadata": {},
   "outputs": [
    {
     "name": "stdout",
     "output_type": "stream",
     "text": [
      "Введите заработанную плату в месяц:\n",
      "100000\n",
      "Введите сколько процентов уходит на ипотеку:\n",
      "30\n",
      "Введите сколько процентов уходит на жизнь:\n",
      "40\n",
      "Введите количество премий за год:\n",
      "2\n",
      "На ипотеку было потрачено: 360000.0 Было накоплено: 560000.0\n"
     ]
    }
   ],
   "source": [
    "print('Введите заработанную плату в месяц:')\n",
    "a = int(input())\n",
    "print('Введите сколько процентов уходит на ипотеку:')\n",
    "b = int(input())\n",
    "print('Введите сколько процентов уходит на жизнь:')\n",
    "c = int(input())\n",
    "print('Введите количество премий за год:')\n",
    "d = int(input())\n",
    "e = (12 + d) * a # - общий заработок за год с учетом квартальных премий\n",
    "f = 12 * ((a * b) / 100) # - сколько потратилось на ипотеку\n",
    "g = e - f - (12 * ((a * c) / 100)) \n",
    "print('На ипотеку было потрачено:', f,'Было накоплено (с учетом премии равной зп):', g)"
   ]
  },
  {
   "cell_type": "code",
   "execution_count": null,
   "metadata": {},
   "outputs": [],
   "source": []
  },
  {
   "cell_type": "code",
   "execution_count": null,
   "metadata": {},
   "outputs": [],
   "source": []
  },
  {
   "cell_type": "code",
   "execution_count": null,
   "metadata": {},
   "outputs": [],
   "source": []
  },
  {
   "cell_type": "code",
   "execution_count": null,
   "metadata": {},
   "outputs": [],
   "source": []
  },
  {
   "cell_type": "markdown",
   "metadata": {},
   "source": [
    "# Семинар"
   ]
  },
  {
   "cell_type": "code",
   "execution_count": null,
   "metadata": {},
   "outputs": [],
   "source": [
    "print(1 + 1)"
   ]
  },
  {
   "cell_type": "code",
   "execution_count": 1,
   "metadata": {},
   "outputs": [
    {
     "name": "stdout",
     "output_type": "stream",
     "text": [
      "3 1\n"
     ]
    }
   ],
   "source": [
    "print(1 + 2, 2 - 1)"
   ]
  },
  {
   "cell_type": "code",
   "execution_count": null,
   "metadata": {},
   "outputs": [],
   "source": [
    "5 * 6"
   ]
  },
  {
   "cell_type": "code",
   "execution_count": null,
   "metadata": {},
   "outputs": [],
   "source": [
    "1 + 1 # 'элементарный счет'"
   ]
  },
  {
   "cell_type": "markdown",
   "metadata": {},
   "source": [
    "# Переменные"
   ]
  },
  {
   "cell_type": "code",
   "execution_count": null,
   "metadata": {},
   "outputs": [],
   "source": [
    "a = 10 + 20 \n",
    "b = a * 30\n",
    "c = a / b\n",
    "print('Answer', c)"
   ]
  },
  {
   "cell_type": "code",
   "execution_count": null,
   "metadata": {},
   "outputs": [],
   "source": [
    "x = 10\n",
    "print(x)"
   ]
  },
  {
   "cell_type": "markdown",
   "metadata": {},
   "source": [
    "# Строки "
   ]
  },
  {
   "cell_type": "code",
   "execution_count": null,
   "metadata": {},
   "outputs": [],
   "source": [
    "my_string_1 = \"Hello world\""
   ]
  },
  {
   "cell_type": "code",
   "execution_count": null,
   "metadata": {},
   "outputs": [],
   "source": [
    "my_string_2 = 'Hello world'"
   ]
  },
  {
   "cell_type": "code",
   "execution_count": null,
   "metadata": {},
   "outputs": [],
   "source": [
    "my_string_1"
   ]
  },
  {
   "cell_type": "markdown",
   "metadata": {},
   "source": [
    "# Операторы сравнения"
   ]
  },
  {
   "cell_type": "markdown",
   "metadata": {},
   "source": [
    "●>\n",
    "●<\n",
    "●== (не путать с =)\n",
    "●>=\n",
    "●<=\n",
    "●!="
   ]
  },
  {
   "cell_type": "code",
   "execution_count": null,
   "metadata": {},
   "outputs": [],
   "source": [
    "15 != 15"
   ]
  },
  {
   "cell_type": "code",
   "execution_count": null,
   "metadata": {},
   "outputs": [],
   "source": [
    "print('b' > 'B')"
   ]
  },
  {
   "cell_type": "code",
   "execution_count": null,
   "metadata": {},
   "outputs": [],
   "source": [
    "print('abc' > 'aba')"
   ]
  },
  {
   "cell_type": "code",
   "execution_count": null,
   "metadata": {},
   "outputs": [],
   "source": [
    "len('dffnnfnfnfnn') < len('nnfnfnfnn') #длина строки"
   ]
  },
  {
   "cell_type": "markdown",
   "metadata": {},
   "source": [
    "# Условные конструкции"
   ]
  },
  {
   "cell_type": "markdown",
   "metadata": {},
   "source": [
    "if - если\n",
    "elif - иначе если\n",
    "    else - иначе\n",
    "    \n",
    "    Отступы обязательны \n",
    "    \n",
    "    ключевое слово if x % == 0:\n",
    "        print('x - четное число') # код который выполнится если условие True\n",
    "            else: \n",
    "                print('x - нечетное число') # код который выполнится если условие False\n"
   ]
  },
  {
   "cell_type": "code",
   "execution_count": null,
   "metadata": {},
   "outputs": [],
   "source": [
    "x = 6\n",
    "if x % 2 == 0:\n",
    "    print(x, '- четное число')"
   ]
  },
  {
   "cell_type": "code",
   "execution_count": null,
   "metadata": {},
   "outputs": [],
   "source": [
    "x = 7\n",
    "if x % 2 == 0:\n",
    "    print(x, '- четное число')\n",
    "else:\n",
    "    print(x, '- нечетное число')"
   ]
  },
  {
   "cell_type": "markdown",
   "metadata": {},
   "source": [
    "# Пишем программу куда направить призывника"
   ]
  },
  {
   "cell_type": "code",
   "execution_count": null,
   "metadata": {},
   "outputs": [],
   "source": [
    "height = 180\n",
    "if height < 170:\n",
    "    print ('В танкисты')\n",
    "else:\n",
    "    print('в другие войска')\n",
    "print('конец программы')"
   ]
  },
  {
   "cell_type": "code",
   "execution_count": null,
   "metadata": {},
   "outputs": [],
   "source": [
    "height = 180\n",
    "if height < 170:\n",
    "    print ('В танкисты')\n",
    "elif height < 200:\n",
    "    print ('В десантники')\n",
    "else:\n",
    "    print('в другие войска')\n",
    "print('конец программы')"
   ]
  },
  {
   "cell_type": "code",
   "execution_count": null,
   "metadata": {},
   "outputs": [],
   "source": [
    "height = 185\n",
    "if height < 170:\n",
    "    print ('В танкисты')\n",
    "elif height < 200:\n",
    "    print ('В десантники')\n",
    "elif height < 190:\n",
    "    print ('На флот')\n",
    "else:\n",
    "    print('в другие войска')\n",
    "print('конец программы')"
   ]
  },
  {
   "cell_type": "markdown",
   "metadata": {},
   "source": [
    "# Логические операторы"
   ]
  },
  {
   "cell_type": "markdown",
   "metadata": {},
   "source": [
    "# AND логическое И – возвращает True, только когда оба операнда True"
   ]
  },
  {
   "cell_type": "markdown",
   "metadata": {},
   "source": [
    "# OR логическое ИЛИ – возвращает True, когда хотя бы один операнд True"
   ]
  },
  {
   "cell_type": "markdown",
   "metadata": {},
   "source": [
    "# NOT логическое НЕ – возвращает булево значение, противоположное операнду"
   ]
  },
  {
   "cell_type": "code",
   "execution_count": null,
   "metadata": {},
   "outputs": [],
   "source": [
    "True and True"
   ]
  },
  {
   "cell_type": "code",
   "execution_count": null,
   "metadata": {},
   "outputs": [],
   "source": [
    "False and True"
   ]
  },
  {
   "cell_type": "code",
   "execution_count": null,
   "metadata": {},
   "outputs": [],
   "source": [
    "not True"
   ]
  },
  {
   "cell_type": "code",
   "execution_count": null,
   "metadata": {},
   "outputs": [],
   "source": [
    "age = 15 # несмотря возраст 15\n",
    "height = 185\n",
    "if height < 170 and age >= 18:\n",
    "    print ('В танкисты') \n",
    "elif height < 200 and age >= 18:\n",
    "    print ('В десантники')\n",
    "elif height < 190 and age >= 18:\n",
    "    print ('На флот')\n",
    "else:\n",
    "    print('в другие войска')\n",
    "print('конец программы')"
   ]
  },
  {
   "cell_type": "code",
   "execution_count": null,
   "metadata": {},
   "outputs": [],
   "source": [
    "age = 15\n",
    "if age >= 18:\n",
    "    height = 180\n",
    "        # user_input = int(input('Введите рост'))\n",
    "    if height < 170:\n",
    "        print ('В танкисты') \n",
    "    elif height < 200:\n",
    "        print ('В десантники')\n",
    "    elif height < 190:\n",
    "        print ('На флот')\n",
    "    else:\n",
    "        print('в другие войска')\n",
    "else:\n",
    "        print('Непрезывной возраст')\n",
    "print('конец программы')"
   ]
  },
  {
   "cell_type": "code",
   "execution_count": null,
   "metadata": {},
   "outputs": [],
   "source": [
    "if age >= 18:\n",
    "        user_input = int(input('Введите рост'))\n",
    "    if user_input < 170:\n",
    "        print ('В танкисты') \n",
    "    elif user_input < 200:\n",
    "        print ('В десантники')\n",
    "    elif user_input < 190:\n",
    "        print ('На флот')\n",
    "    else:\n",
    "        print('в другие войска')\n",
    "else:\n",
    "        print('Непрезывной возраст')\n",
    "print('конец программы')"
   ]
  },
  {
   "cell_type": "code",
   "execution_count": null,
   "metadata": {},
   "outputs": [],
   "source": [
    "age = 20\n",
    "if 18 <= age <= 27:\n",
    "    user_input = input('Введите рост')\n",
    "    if user_input < 170:\n",
    "        print ('В танкисты') \n",
    "    elif user_input < 200:\n",
    "        print ('В десантники')\n",
    "    elif user_input < 190:\n",
    "        print ('На флот')\n",
    "    else:\n",
    "        print('в другие войска')\n",
    "else:\n",
    "        print('Непрезывной возраст')\n",
    "print('конец программы')"
   ]
  },
  {
   "cell_type": "code",
   "execution_count": null,
   "metadata": {},
   "outputs": [],
   "source": [
    "# конвертируем текст в число добавляем int\n",
    "age = 20\n",
    "if 18 <= age <= 27:\n",
    "    user_input = int(input('Введите рост'))\n",
    "    if user_input < 170:\n",
    "        print ('В танкисты') \n",
    "    elif user_input < 200:\n",
    "        print ('В десантники')\n",
    "    elif user_input < 190:\n",
    "        print ('На флот')\n",
    "    else:\n",
    "        print('в другие войска')\n",
    "else:\n",
    "        print('Непрезывной возраст')\n",
    "print('конец программы')"
   ]
  },
  {
   "cell_type": "code",
   "execution_count": null,
   "metadata": {},
   "outputs": [],
   "source": [
    "age = 20\n",
    "if 18 <= age <= 27:\n",
    "    user_input = int(input('Введите рост'))\n",
    "    if user_input < 170:\n",
    "        print ('В танкисты') \n",
    "    elif user_input < 200:\n",
    "        print ('В десантники')\n",
    "    elif user_input < 190:\n",
    "        print ('На флот')\n",
    "    else:\n",
    "        print('в другие войска')\n",
    "else:\n",
    "        print('Непрезывной возраст')\n",
    "print('конец программы')"
   ]
  },
  {
   "cell_type": "code",
   "execution_count": null,
   "metadata": {},
   "outputs": [],
   "source": []
  },
  {
   "cell_type": "markdown",
   "metadata": {},
   "source": [
    "# Логические значения"
   ]
  },
  {
   "cell_type": "markdown",
   "metadata": {},
   "source": [
    "should_notify = account_amout \\< loan_amount and \\((days_to_pay < 10 \\and not is_holiday) \\or (days_to_pay == 15))\n",
    "\n",
    "логические значения можно записывать в переменные\n",
    "● в логических выражениях можно использовать скобки;\n",
    "● логические выражения могут быть сложными."
   ]
  },
  {
   "cell_type": "code",
   "execution_count": null,
   "metadata": {},
   "outputs": [],
   "source": [
    "account_amount = 1000\n",
    "loan_amount = 1500\n",
    "days_to_pay = 6\n",
    "is_holiday = False\n",
    "\n",
    "should_notify = account_amount < loan_amount and ((days_to_pay < 10 and not is_holiday) or (days_to_pay == 15))\n",
    "should_notify"
   ]
  },
  {
   "cell_type": "code",
   "execution_count": null,
   "metadata": {},
   "outputs": [],
   "source": [
    "account_amoun < loan_amount and ((days_to_pay ))"
   ]
  },
  {
   "cell_type": "code",
   "execution_count": null,
   "metadata": {},
   "outputs": [],
   "source": []
  },
  {
   "cell_type": "markdown",
   "metadata": {},
   "source": [
    "# Упражнение"
   ]
  },
  {
   "cell_type": "markdown",
   "metadata": {},
   "source": [
    "Упражнение\n",
    "Необходим скрипт для подбора упаковок по размерам товара. Используйте следующие правила:\n",
    "\n",
    "если ширина, длина и высота менее 15 сантиметров, то выведите на экран \"Коробка №1\"\n",
    "если хотя бы один из габаритов больше 15см, но менее 50см, то выводите \"Коробка №2\"\n",
    "если длина товара больше 2 метров, то вывести \"ищите упаковку для лыж\"\n",
    "во всех остальных случаях пишите \"Стандартная коробка №3\""
   ]
  },
  {
   "cell_type": "code",
   "execution_count": null,
   "metadata": {},
   "outputs": [],
   "source": [
    "print('Введите ширину:')\n",
    "width = int(input())\n",
    "print('Введите длину:')\n",
    "length = int(input())\n",
    "print('Введите высоту:')\n",
    "height = int(input())\n",
    "if width < 15 and length < 15 and height < 15:\n",
    "    print('Коробка №1')\n",
    "elif length > 200:\n",
    "    print ('Ищите упаковку для лыж')\n",
    "elif 15 < width < 50 or 15 < length < 50 or 15 < height < 50:\n",
    "    print('Коробка №2')\n",
    "else:\n",
    "    print('Стандартная коробка №3')"
   ]
  },
  {
   "cell_type": "code",
   "execution_count": null,
   "metadata": {},
   "outputs": [],
   "source": [
    "print('Введите ширину:')\n",
    "width = int(input())\n",
    "print('Введите длину:')\n",
    "length = int(input())\n",
    "print('Введите высоту:')\n",
    "height = int(input())\n",
    "if width < 15 and length < 15 and height < 15:\n",
    "    print('Коробка №1')\n",
    "elif length > 200:\n",
    "    print ('Ищите упаковку для лыж')\n",
    "elif 15 < width < 50 or 15 < length < 50 or 15 < height < 50:\n",
    "    print('Коробка №2')\n",
    "else:\n",
    "    print('Стандартная коробка №3')"
   ]
  },
  {
   "cell_type": "code",
   "execution_count": null,
   "metadata": {},
   "outputs": [],
   "source": []
  },
  {
   "cell_type": "code",
   "execution_count": null,
   "metadata": {},
   "outputs": [],
   "source": []
  }
 ],
 "metadata": {
  "kernelspec": {
   "display_name": "Python 3",
   "language": "python",
   "name": "python3"
  },
  "language_info": {
   "codemirror_mode": {
    "name": "ipython",
    "version": 3
   },
   "file_extension": ".py",
   "mimetype": "text/x-python",
   "name": "python",
   "nbconvert_exporter": "python",
   "pygments_lexer": "ipython3",
   "version": "3.7.6"
  }
 },
 "nbformat": 4,
 "nbformat_minor": 4
}
